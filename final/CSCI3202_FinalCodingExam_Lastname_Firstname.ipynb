{
 "cells": [
  {
   "cell_type": "markdown",
   "metadata": {},
   "source": [
    "# CSCI 3202, Spring 2022: Final Coding Project\n",
    "\n",
    "---\n",
    "\n",
    "\n",
    "This is your final programming project for CSCI 3202. It is due on Canvas by **11:59 PM on Saturday April 30**.  Your solutions to theoretical questions should be done in Markdown/LateX directly below the associated question. Your solutions to computational questions should include any relevant Python code, as well as results and any written commentary.\n",
    "\n",
    "You have two options for completing your final project for this course. The first option is presented in this notebook and involves implementing a reinforcement learning algorithm and producing a five-minute video that explains your process of solving this problem. The second option is to design your own project that includes the algorithms we've discussed since the midterm - Bayes Nets, Hidden Markov Models, Markov Decision Processes, or Reinforcement Learning - or an algorithm related to one of these that we haven't discussed in class. Your project also needs to include some kind of analysis of how it performed on a specific problem. If you're interested in the design your own project option, you need to discuss your idea with one of the course instructors to get approval. If you do a project without getting approval, you will receive a 0 regardless of the quality of the project. You will also need to produce a short, five-minute video that explains your project.\n",
    "\n",
    "**The rules:**\n",
    "\n",
    "1. Choose EITHER the given problem to submit OR choose your own project topic. \n",
    "\n",
    "2. If you choose your own project topic, please adhere to the following guidelines:\n",
    "- The project needs to be approved by the course instructors.\n",
    "- The project needs to include one of the algorithms we've discussed since the midterm - Bayes Nets, HMMs, MDPs, or Reinforcement Learning - or an algorithm that we haven't discussed in class. \n",
    "- If you do your own project without prior approval, you will receive a 0 for this project.\n",
    "- Your project code, explanation, and results must all be contained in a Jupyter notebook. \n",
    "\n",
    "3. All work, code and analysis must be **your own**.\n",
    "4. You may use your course notes, posted lecture slides, textbook, in-class notebooks and homework solutions as resources.  You may also search online for answers to general knowledge questions, like the form of a probability distribution function, or how to perform a particular operation in Python. You may not use entire segments of code as solutions to any part of this project, e.g. if you find a Python implementation of policy iteration online, you can't use it.\n",
    "5. You may **not** post to message boards or other online resources asking for help.\n",
    "6. **You may not collaborate with classmates or anyone else.**\n",
    "7. This is meant to be like a coding portion of your final exam. So, we will be much less helpful than we typically am with homework. For example, we will not check answers, help debug your code, and so on.\n",
    "8. If you have a question, post it first as a **private** Piazza message. If we decide that it is appropriate for the entire class, then we will make it a public post (and anonymous).\n",
    "9. If something is left open-ended, it is probably because we intend for you to code it up however you want, and only care about the plots/analysis we see at the end. Feel free to ask clarifying questions though.\n",
    "\n",
    "Violation of these rules will result in an **F** and a trip to the Honor Code council.\n",
    "\n",
    "---\n",
    "**By writing your name below, you agree to abide by these rules:**\n",
    "\n",
    "**Your name:** Ryan Taylor\n",
    "\n",
    "---\n",
    "\n"
   ]
  },
  {
   "cell_type": "code",
   "execution_count": 1,
   "metadata": {},
   "outputs": [],
   "source": [
    "import pandas as pd\n",
    "import numpy as np\n",
    "import scipy.stats as stats\n",
    "import matplotlib.pyplot as plt\n",
    "from collections import defaultdict\n",
    "\n",
    "# added packages\n",
    "import heapq\n",
    "from matplotlib import colors\n",
    "\n",
    "import random"
   ]
  },
  {
   "cell_type": "markdown",
   "metadata": {},
   "source": [
    "\n",
    "\n",
    "---\n",
    "## [100 pts] Problem 1:  Reinforcement learning\n",
    "\n",
    "Consider a **cube** state space defined by $0 \\le x, y, z \\le L$. Suppose you are piloting/programming a drone to learn how to land on a platform at the center of the $z=0$ surface (the bottom). Some assumptions:\n",
    "* In this discrete world, if the drone is at $(x,y,z)$ it means that the box is centered at $(x,y,z)$. There are boxes (states) centered at $(x,y,z)$ for all $0 \\le x,y,z \\le L$. Each state is a 1 unit cube. So when $L=2$ (for example), there are cubes centered at each $x=0,1,2$, $y=0,1,2$ and so on, for a total state space size of $3^3 = 27$ states.\n",
    "* All of the states with $z=0$ are terminal states.\n",
    "* The state at the center of the bottom of the cubic state space is the landing pad. For example, when $L=4$, the landing pad is at $(x,y,z) = (2,2,0)$.\n",
    "* All terminal states ***except*** the landing pad have a reward of -1. The landing pad has a reward of +1.\n",
    "* All non-terminal states have a living reward of -0.01.\n",
    "* The drone takes up exactly 1 cubic unit, and begins in a random non-terminal state.\n",
    "* The available actions in non-terminal states include moving exactly 1 unit Up (+z), Down (-z), North (+y), South (-y), East (+x) or West (-x). In a terminal state, the training episode should end."
   ]
  },
  {
   "cell_type": "markdown",
   "metadata": {},
   "source": [
    "#### Part A\n",
    "Write a class `MDPLanding` to represent the Markov decision process for this drone. Include methods for:\n",
    "1. `actions(state)`, which should return a list of all actions available from the given state\n",
    "2. `reward(state)`, which should return the reward for the given state\n",
    "3. `result(state, action)`, which should return the resulting state of doing the given action in the given state\n",
    "\n",
    "and attributes for:\n",
    "1. `states`, a list of all the states in the state space, where each state is represented as an $(x,y,z)$ tuple\n",
    "2. `terminal_states`, a dictionary where keys are the terminal state tuples and the values are the rewards associated with those terminal states\n",
    "3. `default_reward`, a scalar for the reward associated with non-terminal states\n",
    "4. `all_actions`, a list of all possible actions (Up, Down, North, South, East, West)\n",
    "5. `discount`, the discount factor (use $\\gamma = 0.999$ for this entire problem)\n",
    "\n",
    "How you feed arguments/information into the class constructor is up to you.\n",
    "\n",
    "Note that actions are *deterministic* here.  The drone does not need to learn transition probabilities for outcomes of particular actions. What the drone does need to learn, however, is where the landing pad is, and how to get there from any initial state.\n",
    "\n",
    "Before moving on to Part B, we recommend that you test that your MDPLanding code is set up correctly. Write unit tests that display the actions for a given state, rewards, results, etc. This will help you identify errors in your implementation and save you a lot of debugging time later."
   ]
  },
  {
   "cell_type": "code",
   "execution_count": 2,
   "metadata": {},
   "outputs": [],
   "source": [
    "class MDPLanding:\n",
    "\n",
    "    # constructor\n",
    "    def __init__(self, size, default=-0.01, terminal=-1, goal=1):\n",
    "\n",
    "        # set defaults if not given alternate rewards structures\n",
    "        self.size = size\n",
    "        self.default_reward = default\n",
    "        self.terminal_reward = terminal\n",
    "        self.goal_reward = goal\n",
    "\n",
    "        # actual constant stuff\n",
    "        self.all_actions = ['up', 'down', 'north', 'south', 'east', 'west']\n",
    "        self.discount = 0.999\n",
    "\n",
    "        # state space\n",
    "        self.states = []\n",
    "        for x in range(size+1):\n",
    "            for y in range(size+1):\n",
    "                for z in  range(size+1):\n",
    "                    self.states.append((x,y,z))\n",
    "        \n",
    "\n",
    "        # setting terminal stataes, policies to be used in policy iteration\n",
    "        self.terminal_states = {}\n",
    "        self.policies = {}\n",
    "        for state in self.states:\n",
    "            default_policy = random.choice(self.actions(state))\n",
    "            if state[2] == 0:\n",
    "                if state[0] == state[1] and state[0] + state[1] == size:\n",
    "                    self.policies[state] = self.goal_reward, state\n",
    "                    self.terminal_states[state] = self.goal_reward\n",
    "                else:\n",
    "                    self.policies[state] = self.terminal_reward, state\n",
    "                    self.terminal_states[state] = self.terminal_reward\n",
    "            else:\n",
    "                self.policies[state] = self.default_reward, default_policy\n",
    "\n",
    "\n",
    "    # return all actions around given state\n",
    "    def actions(self, state):\n",
    "        output = []\n",
    "        for s in self.states:\n",
    "            if s[1] == state[1] and s[2] == state[2]:\n",
    "                if s[0] == state[0] + 1 or s[0] == state[0] - 1:\n",
    "                    output.append(s)\n",
    "            if s[0] == state[0] and s[2] == state[2]:\n",
    "                if s[1] == state[1] + 1 or s[1] == state[1] - 1:\n",
    "                    output.append(s)\n",
    "            if s[0] == state[0] and s[1] == state[1]:\n",
    "                if s[2] == state[2] + 1 or s[2] == state[2] - 1:\n",
    "                    output.append(s)\n",
    "        return output\n",
    "\n",
    "\n",
    "    # return reward of given state\n",
    "    def reward(self, state):\n",
    "        if state in self.terminal_states:\n",
    "            return self.terminal_states[state]\n",
    "        else:\n",
    "            return self.default_reward\n",
    "\n",
    "\n",
    "    # compute result of state given direction\n",
    "    def result(self, state, action):\n",
    "\n",
    "        # applying appropriate transformation to given state\n",
    "        if action == 'up' or action == 0:\n",
    "            new_state = (state[0], state[1], state[2] + 1)\n",
    "        elif action == 'down' or action == 1:\n",
    "            new_state = (state[0], state[1], state[2] - 1)\n",
    "        elif action == 'north' or action == 2:\n",
    "            new_state = (state[0], state[1] + 1, state[2])\n",
    "        elif action == 'south' or action == 3:\n",
    "            new_state = (state[0], state[1] - 1, state[2])\n",
    "        elif action == 'east' or action == 4:\n",
    "            new_state = (state[0] - 1, state[1], state[2])\n",
    "        elif action == 'west' or action == 5:\n",
    "            new_state = (state[0] + 1, state[1], state[2])\n",
    "\n",
    "        # handle case of attempting impossible moves\n",
    "        if new_state not in self.states:\n",
    "            new_state = state\n",
    "\n",
    "        # if random space, default reward and not reached end\n",
    "        if state not in self.terminal_states:\n",
    "            reward = self.default_reward\n",
    "            is_done = False\n",
    "        else:\n",
    "            # if goal space, goal reward and reached end\n",
    "            if self.reward(state) == self.goal_reward:\n",
    "                reward = self.goal_reward\n",
    "                is_done = True\n",
    "            # terminal state, terminal reward and reached end\n",
    "            else:\n",
    "                reward = self.terminal_reward\n",
    "                is_done = True\n",
    "\n",
    "        return new_state, reward, is_done\n",
    "\n",
    "\n",
    "    # for testing policy iteration\n",
    "    # follow path of policies to terminal state\n",
    "    def follow_path(self, start):\n",
    "        path = [start]\n",
    "        state = start\n",
    "        while state not in self.terminal_states:\n",
    "            new = self.policies[(state)]\n",
    "            path.append(new[1])\n",
    "            state = new[1]\n",
    "        return path"
   ]
  },
  {
   "cell_type": "markdown",
   "metadata": {
    "collapsed": true
   },
   "source": [
    "#### Part B\n",
    "Write a function to implement **policy iteration** for this drone landing MDP. Create an MDP environment to represent the $L=4$ case (so 125 total states).\n",
    "\n",
    "Use your function to find an optimal policy for your new MDP environment. Check (by printing to screen) that the policy for the following states are what you expect, and **comment on the results**:\n",
    "1. $(2,2,1)$\n",
    "1. $(0,2,1)$\n",
    "1. $(2,0,1)$\n",
    "\n",
    "The policy for each of these states is the action that the agent should take in that state. "
   ]
  },
  {
   "cell_type": "code",
   "execution_count": 3,
   "metadata": {},
   "outputs": [
    {
     "name": "stdout",
     "output_type": "stream",
     "text": [
      "Total policy iterations: 6\n",
      "Next move from (2, 2, 1): (2, 2, 0)\n",
      "Next move from (0, 2, 1): (1, 2, 1)\n",
      "Next move from (2, 0, 1): (2, 1, 1)\n",
      "\n",
      "[(4, 4, 3), (3, 4, 3), (2, 4, 3), (2, 3, 3), (2, 2, 3), (2, 2, 2), (2, 2, 1), (2, 2, 0)]\n"
     ]
    }
   ],
   "source": [
    "# Bellman to compute utility of each spot\n",
    "# u(state) = reward(state) + discount * max_reward(adjacent_moves)\n",
    "def utility(MDP, state):\n",
    "\n",
    "    possible_rewards = []\n",
    "    possible_state = []\n",
    "    for a in MDP.actions(state):\n",
    "        possible_rewards.append(MDP.policies[a][0])\n",
    "        possible_state.append(a)    \n",
    "    max_reward = max(possible_rewards)\n",
    "    # print(MDP.policies[state][0], max_reward)\n",
    "    return  ((MDP.policies[state][0] + (MDP.discount * max_reward))), possible_state[possible_rewards.index(max_reward)]\n",
    "\n",
    "# reset old policy dictionary\n",
    "def reset(new):\n",
    "    out = {}\n",
    "    for a in new:\n",
    "        out[a] = new[a][1]\n",
    "    return out\n",
    "\n",
    "# check if policies have not changed\n",
    "def no_change(new, old):\n",
    "    for a in new:\n",
    "        if old[a] != new[a][1]:\n",
    "            return False\n",
    "    return True\n",
    "\n",
    "# actually running the policy iteration\n",
    "def policy_iteration(MDP):\n",
    "    iters = 0\n",
    "    old_policies = reset(MDP.policies)\n",
    "    while True:\n",
    "        # iterate over entire state space and update policies\n",
    "        for state in MDP.states:\n",
    "            MDP.policies[state] = utility(MDP, state)\n",
    "        # break if no change\n",
    "        if no_change(MDP.policies, old_policies) and iters>1:\n",
    "            break\n",
    "        # else loop\n",
    "        else:\n",
    "            old_policies = reset(MDP.policies)\n",
    "        iters += 1\n",
    "    print(\"Total policy iterations:\", iters)\n",
    "\n",
    "\n",
    "# create space and run policy iter within\n",
    "test_state = MDPLanding(4)\n",
    "policy_iteration(test_state)\n",
    "\n",
    "# given test spaces\n",
    "print(\"Next move from (2, 2, 1):\", test_state.policies[(2, 2, 1)][1])\n",
    "print(\"Next move from (0, 2, 1):\", test_state.policies[(0, 2, 1)][1])\n",
    "print(\"Next move from (2, 0, 1):\", test_state.policies[(2, 0, 1)][1])\n",
    "print()\n",
    "print(test_state.follow_path((4, 4, 3)))"
   ]
  },
  {
   "cell_type": "markdown",
   "metadata": {},
   "source": [
    "For each of the given starting cases, the policy iteration gives the correct next move towards the landing pad. I also created a short path-following test just to see how different starting points play out, and most paths already end up at the landing pad. For certain x-values it does get confused, however this policy iteration is of course not a perfect algorithm.\n",
    "\n",
    "---"
   ]
  },
  {
   "cell_type": "markdown",
   "metadata": {},
   "source": [
    "#### Part C\n",
    "\n",
    "Code up a **Q-learning** agent/algorithm to learn how to land the drone. You can do this however you like, as long as you use the MDP class structure defined above.  \n",
    "\n",
    "Your code should include some kind of a wrapper to run many trials to train the agent and learn the Q values.  You also do not need to have a separate function for the actual \"agent\"; your code can just be a \"for\" loop within which you are refining your estimate of the Q values.\n",
    "\n",
    "From each training trial, save the cumulative discounted reward (utility) over the course of that episode. That is, add up all of $\\gamma^t R(s_t)$ where the drone is in state $s_t$ during time step $t$, for the entire sequence. We refer to this as \"cumulative reward\" because we usually refer to \"utility\" as the utility *under an optimal policy*.\n",
    "\n",
    "Some guidelines:\n",
    "* The drone should initialize in a random non-terminal state for each new training episode.\n",
    "* The training episodes should be limited to 50 time steps, even if the drone has not yet landed. If the drone lands (in a terminal state), the training episode is over.\n",
    "* You may use whatever learning rate $\\alpha$ you decide is appropriate, and gives good results.\n",
    "* There are many forms of Q-learning. You can use whatever you would like, subject to the reliability targets in Part D below.\n",
    "* Your code should return:\n",
    "  * The learned Q values associated with each state-action pair.\n",
    "  * The cumulative reward for each training trial. \n",
    "  * Anything else that might be useful in the ensuing analysis."
   ]
  },
  {
   "cell_type": "code",
   "execution_count": 4,
   "metadata": {},
   "outputs": [],
   "source": [
    "# Temporal difference q learning alg\n",
    "# = existing_q_value + learning_parameter((reward_at_state) + discount(max_change_in_q_value))\n",
    "\n",
    "# Pseudocode from class for easy reference\n",
    "# initialize\n",
    "#   default policy, q, rewards\n",
    "# for each run\n",
    "#   random start state\n",
    "#   for each step\n",
    "#       if terminal\n",
    "#           calculate cumulative reward\n",
    "#           assign q value\n",
    "#           exit\n",
    "#       else\n",
    "#           pick an action using e-greedy\n",
    "#           count state-action pair\n",
    "#           calculate q value using q learning eq\n",
    "#           update policy\n",
    "#           calculate cumulative reward using discount, step, reward\n",
    "# return q, counter, cumulative rewards for trials \n",
    "\n",
    "\n",
    "# convert actions to integers\n",
    "# for accessing list indices later on\n",
    "def act_int(action):\n",
    "    if action == 'up': return 0\n",
    "    if action == 'down': return 1\n",
    "    if action == 'north': return 2\n",
    "    if action == 'south': return 3\n",
    "    if action == 'east': return 4\n",
    "    if action == 'west': return 5\n",
    "\n",
    "\n",
    "# setting global parameters\n",
    "# these could be set within the q_learning function but i found it easier to initialize them all at once\n",
    "# this also makes it easier to change them later to run different tests\n",
    "# around 20k episodes seemed to be best results without letting tests run for too long\n",
    "N_EPISODES = 20000\n",
    "MAX_EPISODE_STEPS = 50\n",
    "MIN_EPSILON = 0.01\n",
    "epsilons = np.linspace(0.8, MIN_EPSILON, N_EPISODES)\n",
    "MIN_ALPHA = 0.6\n",
    "alphas = np.linspace(0.6, MIN_ALPHA, N_EPISODES)\n",
    "\n",
    "\n",
    "# I know our learning didn't have to be a function, again this just made it more repeatable with different spaces\n",
    "def q_learn(space):\n",
    "\n",
    "    # constant cumulative rewards and q values\n",
    "    rewards = []\n",
    "    Q = defaultdict(lambda: np.zeros(len(space.all_actions)))\n",
    "\n",
    "    for e in range(N_EPISODES):\n",
    "        \n",
    "        # starting state, current epsilon/alpha values, reset cumulative reward\n",
    "        state = random.choice(space.states)\n",
    "        epsilon = epsilons[e]\n",
    "        alpha = alphas[e]\n",
    "        cumulative_reward = 0\n",
    "\n",
    "        for _ in range(MAX_EPISODE_STEPS):\n",
    "                \n",
    "            # e-greedy choice of action to take\n",
    "            if random.uniform(0, 1) < epsilon:\n",
    "                move = act_int(random.choice(space.all_actions))\n",
    "            else:\n",
    "                move = np.argmax(Q[next_state]) \n",
    "\n",
    "            # get resulting state, reward, and whether on a terminal space\n",
    "            next_state, reward, terminal = space.result(state, move)\n",
    "\n",
    "            # update cumulative reward\n",
    "            cumulative_reward += reward\n",
    "\n",
    "            # calculate q value and update policy\n",
    "            best_next_action = np.argmax(Q[next_state])    \n",
    "            td_target = reward + space.discount * Q[next_state][best_next_action]\n",
    "            td_delta = td_target - Q[state][move]\n",
    "            Q[state][move] += alpha * td_delta\n",
    "\n",
    "            # break if terminal\n",
    "            if terminal:\n",
    "                break\n",
    "                \n",
    "            # move to next chosen state\n",
    "            state = next_state\n",
    "\n",
    "        # add rewardss to totals list\n",
    "        rewards.append(cumulative_reward)\n",
    "\n",
    "    return Q, rewards"
   ]
  },
  {
   "cell_type": "markdown",
   "metadata": {},
   "source": [
    "#### Part D\n",
    "\n",
    "Initialize the $L=10$ environment (so that the landing pad is at $(5,5,0)$). Run some number of training trials to train the drone.\n",
    "\n",
    "**How do I know if my drone is learned enough?**  If you take the mean cumulative reward across the last 5000 training trials, it should be around 0.80. This means at least about 10,000 (but probably more) training episodes will be necessary. It will take a few seconds on your computer, so start small to test your code.\n",
    "\n",
    "**Then:** Compute block means of cumulative reward from all of your training trials. Use blocks of 500 training trials. This means you need to create some kind of array-like structure such that its first element is the mean of the first 500 trials' cumulative rewards; its second element is the mean of the 501-1000th trials' cumulative rewards; and so on. Make a plot of the block mean rewards as the training progresses. It should increase from about -0.5 initially to somewhere around +0.8.\n",
    "\n",
    "**And:** Print to the screen the mean of the last 5000 trials' cumulative rewards, to verify that it is indeed about 0.80."
   ]
  },
  {
   "cell_type": "code",
   "execution_count": 10,
   "metadata": {},
   "outputs": [],
   "source": [
    "# used this simple function i found to split up lists\n",
    "# https://stackoverflow.com/questions/312443/how-do-you-split-a-list-into-evenly-sized-chunks\n",
    "# i had a much clunkier version but this is much simpler\n",
    "def chunks(lst, n):\n",
    "    \"\"\"Yield successive n-sized chunks from lst.\"\"\"\n",
    "    for i in range(0, len(lst), n):\n",
    "        yield lst[i:i + n]\n",
    "\n",
    "# easy repeatable plotting of a qiven q space\n",
    "def plot_rewards(rewards):\n",
    "\n",
    "    # splitting cumulative rewards list in chunks and taking averages\n",
    "    rewards_blocks = list(chunks(rewards, 500))\n",
    "    block_averages = []\n",
    "    for block in range(len(rewards_blocks)):\n",
    "        block_averages.append(np.mean(rewards_blocks[block]))\n",
    "\n",
    "    # plot block averages\n",
    "    plt.plot(list(range(0, N_EPISODES, 500)) ,block_averages)\n",
    "    plt.xlabel(\"Iterations\")\n",
    "    plt.ylabel(\"Average Cumulative Reward\")\n",
    "    plt.show()"
   ]
  },
  {
   "cell_type": "code",
   "execution_count": 19,
   "metadata": {},
   "outputs": [
    {
     "name": "stdout",
     "output_type": "stream",
     "text": [
      "Mean of last 5000: 0.54874\n"
     ]
    },
    {
     "data": {
      "image/png": "[encoded data removed]",
      "text/plain": [
       "<Figure size 432x288 with 1 Axes>"
      ]
     },
     "metadata": {
      "needs_background": "light"
     },
     "output_type": "display_data"
    }
   ],
   "source": [
    "# seed for repeatability in testing\n",
    "random.seed(122)\n",
    "\n",
    "space = MDPLanding(10)\n",
    "\n",
    "q_out, rewards = q_learn(space)\n",
    "print(\"Mean of last 5000:\", np.mean(rewards[-5000:]))\n",
    "plot_rewards(rewards)"
   ]
  },
  {
   "cell_type": "markdown",
   "metadata": {},
   "source": [
    "I understand that my attained 0.55 is as high as the 0.8 average reward we were expected to reach. As far as I'm able to discern, my agent/algorithm and the math performed within match the pseudo code and algorithms we were given. I did also try playing the epsilon and alpha values, however doing this I was not able to get my average reward any higher than this 0.55.\n",
    "\n",
    "---"
   ]
  },
  {
   "cell_type": "markdown",
   "metadata": {},
   "source": [
    "#### Part E\n",
    "\n",
    "**Question 1:** Why does the cumulative reward start off around -0.5 at the beginning of the training?  \n",
    "During the first iterations of our training, the agent is mostly just randomly moving about the space until either time is up or it finds a terminal state. Most of the time at this stage, the drone will just move randomly until the maximum time is reached. Given our maximum time steps is 50, terminal state reward is -1, and goal reward is 1, the goal and terminal rewards would average out leaving us with the -0.50 from the $50*-0.01$ from our default space rewards.\n",
    "\n",
    "**Question 2:** Why will it be difficult for us to train the drone to reliably obtain rewards much greater than about 0.8?  \n",
    "Given a $10*10*10$ state space, even in runs where the drone effectively navigates to the goal, there will still be a non-zero numbers of steps taken to get there. With our goal reward being 1 by default, each step taken towards the goal hurts our final cumulative reward fairly substantially. Of course we must also consider that there are still occurences of reaching a terminal non-goal state even late in our trainging, which would also sharply decrease that average."
   ]
  },
  {
   "cell_type": "markdown",
   "metadata": {},
   "source": [
    "#### Part F\n",
    "Choose three other reward structures, including the terminal rewards and the living rewards, and rerun your policy iteration and Q-learning algorithms with those reward structures. Write a paragraph or two describing the reward structures that you selected, what impact you expected the changes to have on your results, and what changes actually happened. If there was a difference in what you expected and what actually happened, reflect on why there was a difference. "
   ]
  },
  {
   "cell_type": "code",
   "execution_count": 16,
   "metadata": {},
   "outputs": [
    {
     "data": {
      "image/png": "[encoded data removed]",
      "text/plain": [
       "<Figure size 432x288 with 1 Axes>"
      ]
     },
     "metadata": {
      "needs_background": "light"
     },
     "output_type": "display_data"
    }
   ],
   "source": [
    "space = MDPLanding(10, terminal=-100)\n",
    "q_out, rewards = q_learn(space)\n",
    "plot_rewards(rewards)"
   ]
  },
  {
   "cell_type": "markdown",
   "metadata": {},
   "source": [
    "My first new structure was to give the terminal spaces a much much worse reward, while leaving the default and goal rewards the same. I honestly did not really know what to expect here, as the drone would most likely more quickly learn that terminal spaces are bad, however when it did land on one the impact to the cumulative reward would be substantial. After running the test for certain, we can definitely observe that jumpiness in the graph. We observe a much more mellow slope, as the drone learns the terminal spaces are bad very quickly and avoids them, however the inconsistencies result from such a large negative reward upon accidentally landing on one of those -100 spaces."
   ]
  },
  {
   "cell_type": "code",
   "execution_count": 14,
   "metadata": {},
   "outputs": [
    {
     "data": {
      "image/png": "[encoded data removed]",
      "text/plain": [
       "<Figure size 432x288 with 1 Axes>"
      ]
     },
     "metadata": {
      "needs_background": "light"
     },
     "output_type": "display_data"
    }
   ],
   "source": [
    "space = MDPLanding(10, goal=100)\n",
    "q_out, rewards = q_learn(space)\n",
    "plot_rewards(rewards)"
   ]
  },
  {
   "cell_type": "markdown",
   "metadata": {},
   "source": [
    "For this structure, I gave the goal 100x it's normal reward value while leaving the other defaults alone. I expected structure to result in similar results in the beginning, but as soon as the drone began to find the goal more and more I expected to see a sharp jump in the cumulative rewards. In the beginning when the drone is mostly just randomly moving about the space, a large goal increase would not change that, however the huge boost in reward once the drone found it, I that thought would be significant. Looking at the actual graph however, the reward does appear to peak maybe *slightly* earlier, but nothing terribly significant. I'm not completely sure as to why this is, my best guess might be that becuase the goal is given so much weight, the drone may be just missing by one or two spaces and landing more often on an adjacent space."
   ]
  },
  {
   "cell_type": "code",
   "execution_count": 18,
   "metadata": {},
   "outputs": [
    {
     "name": "stdout",
     "output_type": "stream",
     "text": [
      "No care to default spaces\n"
     ]
    },
    {
     "data": {
      "image/png": "[encoded data removed]",
      "text/plain": [
       "<Figure size 432x288 with 1 Axes>"
      ]
     },
     "metadata": {
      "needs_background": "light"
     },
     "output_type": "display_data"
    }
   ],
   "source": [
    "print(\"No care to default spaces\")\n",
    "space = MDPLanding(10, default=0)\n",
    "q_out, rewards = q_learn(space)\n",
    "plot_rewards(rewards)"
   ]
  },
  {
   "cell_type": "markdown",
   "metadata": {},
   "source": [
    "This last structure consisted of giving no negative reward at all for default non-terminal spaces. I expected this one to take a while to learn anything, as the drone has no consequences for just flying around and not finding anything. With the other structures, the slight penalty for each step taken quickly teaches the drone to find the goal space as quickly as possible. Without that reinforcement here, I expected a lower slop or just not much to occur during the first iterations, and the graph proves this. We actually observe no real change for much longer than I expected, almost half of the episodes. However, once the drone starts more frequently making it to the terminal states it learns very quickly."
   ]
  }
 ],
 "metadata": {
  "kernelspec": {
   "display_name": "Python 3",
   "language": "python",
   "name": "python3"
  },
  "language_info": {
   "codemirror_mode": {
    "name": "ipython",
    "version": 3
   },
   "file_extension": ".py",
   "mimetype": "text/x-python",
   "name": "python",
   "nbconvert_exporter": "python",
   "pygments_lexer": "ipython3",
   "version": "3.10.4"
  }
 },
 "nbformat": 4,
 "nbformat_minor": 2
}
